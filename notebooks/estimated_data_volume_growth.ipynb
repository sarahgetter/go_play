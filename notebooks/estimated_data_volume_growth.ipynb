# %% [markdown]
# # Data Volume Growth Visualization
# 
# This notebook visualizes the estimated growth in the volume of data globally over the last five years. 
# 
# The data used here is based on industry estimates and serves for demonstration purposes.

# %%
# Importing necessary libraries
import pandas as pd
import matplotlib.pyplot as plt

# %%
# Estimated annual growth rates in data volume (hypothetical example)
growth_rates = [0.23, 0.27, 0.30, 0.35, 0.40]  # Assuming 23%, 27%, etc., growth per year

# Starting data volume (in zettabytes) for 2018 - hypothetical
starting_volume = 18  

# Calculating data volume for each year
volumes = [starting_volume]
for i in range(1, len(growth_rates)):
    new_volume = volumes[-1] * (1 + growth_rates[i])
    volumes.append(new_volume)

# Extending the prediction for the next five years
last_growth_rate = growth_rates[-1]  # Last known growth rate
for _ in range(5):
    new_volume = volumes[-1] * (1 + last_growth_rate)
    volumes.append(new_volume)

# Years from 2018 to 2027
years = list(range(2018, 2028))

# Creating a DataFrame
df = pd.DataFrame({'Year': years, 'Data Volume (ZB)': volumes})

# Visualizing the data
plt.style.use('dark_background')
plt.figure(figsize=(12, 6))
plt.plot(df['Year'], df['Data Volume (ZB)'], marker='o', color='b')
plt.title('Estimated and Predicted Growth in Global Data Volume (2018-2027)')
plt.xlabel('Year')
plt.ylabel('Data Volume (ZB)')
plt.grid(True)
plt.show()



