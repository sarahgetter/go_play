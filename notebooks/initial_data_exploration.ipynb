{
 "cells": [
  {
   "cell_type": "code",
   "execution_count": null,
   "metadata": {},
   "outputs": [],
   "source": [
    "# Initial Data Exploration and Setup\n",
    "\n",
    "## Introduction\n",
    "\n",
    "This notebook serves as the starting point for our data analysis in this project. We will perform initial data exploration, including loading the data, understanding its structure, and preparing it for further analysis in subsequent notebooks.\n",
    "\n",
    "## Setup\n",
    "\n",
    "First, let's import the necessary libraries and configure the environment for our analysis.\n",
    "\n",
    "```python\n",
    "# Importing necessary libraries\n",
    "import pandas as pd\n",
    "import numpy as np\n",
    "import matplotlib.pyplot as plt\n",
    "import seaborn as sns\n",
    "\n",
    "# Setting display options for better notebook readability\n",
    "pd.set_option('display.max_columns', None)\n",
    "pd.set_option('display.width', 1000)\n",
    "sns.set(style=\"whitegrid\")\n"
   ]
  }
 ],
 "metadata": {
  "language_info": {
   "name": "python"
  }
 },
 "nbformat": 4,
 "nbformat_minor": 2
}
